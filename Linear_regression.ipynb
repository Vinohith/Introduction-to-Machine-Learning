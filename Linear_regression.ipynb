{
 "cells": [
  {
   "cell_type": "markdown",
   "metadata": {},
   "source": [
    "# LINEAR REGRESSION\n",
    "<img src=\"https://cdn-images-1.medium.com/max/1600/1*KwdVLH5e_P9h8hEzeIPnTg.png\" width=\"400\" height=\"400\"/>\n",
    ">**Linear Regression** is a linear approach for modeling the relationship between a scalar dependent variable ***y*** and one or more independent variables denoted by ***X***.<br>\n",
    "<br>\n",
    ">If the goal is prediction, or forecasting, or error reduction, **Linear Regression** can be used to fit a predictive model to an observed data set of ***y*** and ***X*** values. After developing such a model, if an additional value of ***X*** is then given without its accompanying value of ***y***, the fitted model can be used to make a prediction of the value of ***y***."
   ]
  },
  {
   "cell_type": "markdown",
   "metadata": {},
   "source": [
    "## BASIC TERMINOLOGY\n",
    ">1. FEATURES     : These are the input parameters on which the model depends.\n",
    ">2. LABELS       : These are the output for a particular set of feature set.\n",
    ">3. EXAMPLE      : Each of the (FEATURE,LABEL) set constitutes an example.\n",
    ">4. WEIGHTS      : These are the parameters that are learned or modified during the training process. It determines how important a particular feature is for predicting the output. These are also called PARAMETERS.\n",
    ">5. TRAINING SET : It is the set of data which is used to fit the regression line or hypothesis.\n",
    ">6. HYPOTHESIS   : It is a function which has to be learnt or determined by the algorithm during the training phase. This is     then used to predict the output for new examples or data-set. \n",
    ">7. COST FUNCTION : It is used to calculate the error between the hypothesis line predicted values and the labels.\n",
    ">8. GRADIENT DESCENT : It is one of the methods used for optimization of the parameters."
   ]
  },
  {
   "cell_type": "markdown",
   "metadata": {},
   "source": [
    "## HYPOTHESIS \n",
    ">Here, since we consider a Linear Regression, the degree of the hypothesis function will be equal to one.<br>\n",
    ">Let us consider, the data-set has three features => $x_{1}, x_{2},x_{3}$<br>\n",
    ">Corresponding to each of these features is a weight => $\\theta_{1},\\theta_{2},\\theta_{3}$<br>\n",
    ">Additionally, we have another parameter called bias, denoted by => $\\theta_{0}$\n",
    ">Finally, combining all this we get our hypothesis line or regression line.<br>\n",
    ">># h(x) = $\\theta_{0}x_{0}$ + $\\theta_{1}x_{1}$ + $\\theta_{2}x_{2}$ + $\\theta_{3}x_{3}$\n",
    "\n",
    ">This can be generalized, for ***n*** number of features as,\n",
    ">># h(x) = $\\theta_{0}x_{0}$ + $\\theta_{1}x_{1}$ + $\\theta_{2}x_{2}$ + $\\theta_{3}x_{3}$+ ... + $\\theta_{n}x_{n}$ "
   ]
  },
  {
   "cell_type": "markdown",
   "metadata": {},
   "source": [
    "## COST FUNCTION & GRADIENT DESCENT\n",
    ">The main aim of the algorithm is to compute the weights or parameters that minimize the ***Cost Function***. This is done done by a process called ***Gradient Decsent***.\n",
    "\n",
    "### COST FUNCTION\n",
    ">> # J($\\theta$) = $\\frac{1}{2m}\\displaystyle\\sum_{i=1}^{m}(h(x ^i) - y^i)^2$\n",
    ">>where **m** is the total number of examples\n",
    "\n",
    "The cost function for a hypothesis function that depends on two variables looks something like the one given below,\n",
    "<img src=\"http://www.holehouse.org/mlclass/01_02_Introduction_regression_analysis_and_gr_files/Image%20[14].png\" width=\"400\" height=\"400\"/>\n",
    "\n",
    "### GRADIENT DESCENT\n",
    "> This a little calculus involved, but understandable. Since the hypothesis depends on the weights(variables). If we partially differentiate the cost function with respect to each of these weights, we get the the rate of change of the cost with respect to each of these parameters. It is calculated as follows,<br>\n",
    ">> # $\\frac{\\partial J}{\\partial\\theta_{0}} = \\frac{1}{m}\\displaystyle\\sum_{i=1}^{m}(h(x^i) - y^i)x_0^i$\n",
    ">> # $\\frac{\\partial J}{\\partial\\theta_{1}} = \\frac{1}{m}\\displaystyle\\sum_{i=1}^{m}(h(x^i) - y^i)x_1^i$\n",
    ">> # $\\frac{\\partial J}{\\partial\\theta_{2}} = \\frac{1}{m}\\displaystyle\\sum_{i=1}^{m}(h(x^i) - y^i)x_2^i$\n",
    ">> # $\\frac{\\partial J}{\\partial\\theta_{3}} = \\frac{1}{m}\\displaystyle\\sum_{i=1}^{m}(h(x^i) - y^i)x_3^i$\n",
    ">> # .\n",
    ">> # .\n",
    ">> # .\n",
    ">> # $\\frac{\\partial J}{\\partial\\theta_{n}} = \\frac{1}{m}\\displaystyle\\sum_{i=1}^{m}(h(x^i) - y^i)x_n^i$\n",
    "\n",
    ">Update rule : Procedure to update these weights or parameters with and aim to reduce cost function. We use something called simultaneous update to update the weights or parameters.\n",
    "\n",
    ">># $temp\\theta_{0} = \\theta_{0} - \\alpha \\frac{\\partial J}{\\partial\\theta_{0}}$\n",
    ">># $temp\\theta_{1} = \\theta_{1} - \\alpha \\frac{\\partial J}{\\partial\\theta_{1}}$\n",
    ">># $temp\\theta_{2} = \\theta_{2} - \\alpha \\frac{\\partial J}{\\partial\\theta_{2}}$\n",
    ">># $temp\\theta_{3} = \\theta_{3} - \\alpha \\frac{\\partial J}{\\partial\\theta_{3}}$\n",
    ">># .\n",
    ">># .\n",
    ">># .\n",
    ">># $temp\\theta_{n} = \\theta_{n} - \\alpha \\frac{\\partial J}{\\partial\\theta_{n}}$\n",
    ">>where, $\\alpha$ is the learning rate\n",
    "\n",
    "\n",
    ">Now, updating the weights with the new computed value, \n",
    ">># $\\theta_{0} = temp\\theta_{0}$\n",
    ">># $\\theta_{1} = temp\\theta_{1}$\n",
    ">># $\\theta_{2} = temp\\theta_{2}$\n",
    ">># $\\theta_{3} = temp\\theta_{3}$\n",
    ">># .\n",
    ">># .\n",
    ">># .\n",
    ">># $\\theta_{4} = temp\\theta_{4}$\n",
    "\n",
    "Below is an image which shows what is typically happenning during the process of gradient descent,\n",
    "<img src=\"https://raw.githubusercontent.com/mattnedrich/GradientDescentExample/master/gradient_descent_example.gif\" width=\"700\" height=\"400\"/>"
   ]
  },
  {
   "cell_type": "markdown",
   "metadata": {},
   "source": [
    "## CODE EXAMPLE \n",
    "\n",
    ">The code has four parts:<br>\n",
    "1. The regression function has the parameter initialization and calls and also calls the compute_error and the gradient_descent function.\n",
    "2. The compute_error function computes the error for the initial and the final hypothesis line.\n",
    "3. The gradient_descent function calls the gradient function which computes the gradient of the cost(or error) equation with respect to each of the parameters and updates the parameters. \n"
   ]
  },
  {
   "cell_type": "code",
   "execution_count": 1,
   "metadata": {},
   "outputs": [],
   "source": [
    "# we initialize all the libraries we will be using\n",
    "# all the code written is in pure python, we only use the libraries for data visualization\n",
    "import numpy as np\n",
    "import pandas as pd\n",
    "import matplotlib.pyplot as plt\n",
    "%matplotlib inline"
   ]
  },
  {
   "cell_type": "code",
   "execution_count": 2,
   "metadata": {},
   "outputs": [
    {
     "name": "stdout",
     "output_type": "stream",
     "text": [
      "Index(['Input', 'Output'], dtype='object')\n",
      "       Input     Output\n",
      "0  32.502345  31.707006\n",
      "1  53.426804  68.777596\n",
      "2  61.530358  62.562382\n",
      "3  47.475640  71.546632\n",
      "4  59.813208  87.230925\n",
      "5  55.142188  78.211518\n",
      "6  52.211797  79.641973\n",
      "7  39.299567  59.171489\n",
      "8  48.105042  75.331242\n",
      "9  52.550014  71.300880\n",
      "(100, 2)\n"
     ]
    }
   ],
   "source": [
    "# we use pandas to read and visualize the data (it will not be used again in the code)\n",
    "Data_frame = pd.read_csv('data.csv') # reading the data file\n",
    "print(Data_frame.columns) # printing all the columns present in the data\n",
    "print(Data_frame.head(10)) # printing the first ten data points\n",
    "print(Data_frame.shape) # printing the shape of our dataset"
   ]
  },
  {
   "cell_type": "code",
   "execution_count": 3,
   "metadata": {},
   "outputs": [],
   "source": [
    "# Function to compute the error for each hypothesis line generated at every epoch or iteration\n",
    "def compute_error(b, m, points):\n",
    "    cost = 0 # initialize the initial cost to zero\n",
    "    # computing the error for all the examples and adding their squares\n",
    "    for i in range(1, len(points)):\n",
    "        x = points[i, 0]\n",
    "        y = points[i, 1]\n",
    "        cost += ((m*x + b) - y)**2  # the cost function which we discussed\n",
    "    return cost/float(len(points))"
   ]
  },
  {
   "cell_type": "code",
   "execution_count": 4,
   "metadata": {},
   "outputs": [],
   "source": [
    "# function to compute the gradient of the cost function with respect to each of the parameter\n",
    "def gradient(b_current, m_current, points, learning_rate):\n",
    "    grad_b = 0   # initialize the gradients to zero\n",
    "    grad_m = 0\n",
    "    for i in range(1, len(points)):\n",
    "        x = points[i, 0]\n",
    "        y = points[i, 1]\n",
    "        grad_b += (2/float(len(points))) * ((m_current*x + b_current) - y) # gradient of cost function wrt b\n",
    "        grad_m += (2/float(len(points))) * x * ((m_current*x + b_current) - y) # gradient of cost function wrt m \n",
    "    new_b = b_current - (learning_rate*grad_b) # updating the value of b\n",
    "    new_m = m_current - (learning_rate*grad_m) # updating the value of m\n",
    "    return [new_b, new_m]"
   ]
  },
  {
   "cell_type": "code",
   "execution_count": 5,
   "metadata": {},
   "outputs": [],
   "source": [
    "# this function runs the gradient function for the number of iterations specified\n",
    "def gradient_descent(points, initial_b, initial_m, learning_rate, iterations):\n",
    "    b = initial_b\n",
    "    m = initial_m\n",
    "    for i in range(iterations):\n",
    "        #calling the gradient function defined above\n",
    "        b, m = gradient(b, m, points, learning_rate)\n",
    "    return [b, m]"
   ]
  },
  {
   "cell_type": "code",
   "execution_count": 6,
   "metadata": {},
   "outputs": [],
   "source": [
    "# this function plots the data points and the regression line\n",
    "def ploting(m, b):\n",
    "    df = pd.read_csv('data.csv')\n",
    "    #df.columns\n",
    "    X = df['Input']\n",
    "    y = df['Output']\n",
    "    plt.scatter(X, y)\n",
    "    plt.plot(X, m*X+b, 'r')\n",
    "    plt.show()"
   ]
  },
  {
   "cell_type": "code",
   "execution_count": 7,
   "metadata": {},
   "outputs": [],
   "source": [
    "# this is the regression function which call the other functions\n",
    "# initialization of the hyperparameters is also done here\n",
    "def regression():\n",
    "    #initializing the data and the various hyperparameters\n",
    "    points = np.genfromtxt('data.csv', delimiter=',')\n",
    "    learning_rate = 0.0001\n",
    "    initial_b = 0\n",
    "    initial_m = 0\n",
    "    iterations = 1000\n",
    "    print('')\n",
    "    print('INITIAL ERROR AND VALUE OF PARAMETERS')\n",
    "    print('Before the application of gradient_descent:')\n",
    "    ploting(initial_m, initial_b)\n",
    "    #calling the compute_error function with the initial values of parameters\n",
    "    print('b={0}, m={1}, error={2}'.format(initial_b, initial_m, compute_error(initial_b, initial_m, points)))\n",
    "    print('Starting gradient descent')\n",
    "    print('')\n",
    "    print('Running*************************************')\n",
    "    #calling the gradient_descent function to find the optimized values of the parameters \n",
    "    [b, m] = gradient_descent(points, initial_b, initial_m, learning_rate, iterations)\n",
    "    print('********************************************')\n",
    "    print('********************************************')\n",
    "    print('')\n",
    "    #calling the gradient_descent function after the process of optimization of parameters\n",
    "    print('FINAL ERROR AND VALUES OF PARAMETRES')\n",
    "    print('After the application of gradient_descent:')\n",
    "    ploting(m, b)\n",
    "    print('After {0} iterations :'.format(iterations))\n",
    "    print('b={0}, m={1}, error={2}'.format(b, m, compute_error(b, m, points)))\n",
    "    print('')"
   ]
  },
  {
   "cell_type": "code",
   "execution_count": 8,
   "metadata": {},
   "outputs": [
    {
     "name": "stdout",
     "output_type": "stream",
     "text": [
      "\n",
      "INITIAL ERROR AND VALUE OF PARAMETERS\n",
      "Before the application of gradient_descent:\n"
     ]
    },
    {
     "data": {
      "image/png": "[encoded data removed]",
      "text/plain": [
       "<Figure size 432x288 with 1 Axes>"
      ]
     },
     "metadata": {},
     "output_type": "display_data"
    },
    {
     "name": "stdout",
     "output_type": "stream",
     "text": [
      "b=0, m=0, error=5510.007756914071\n",
      "Starting gradient descent\n",
      "\n",
      "Running*************************************\n",
      "********************************************\n",
      "********************************************\n",
      "\n",
      "FINAL ERROR AND VALUES OF PARAMETRES\n",
      "After the application of gradient_descent:\n"
     ]
    },
    {
     "data": {
      "image/png": "[encoded data removed]",
      "text/plain": [
       "<Figure size 432x288 with 1 Axes>"
      ]
     },
     "metadata": {},
     "output_type": "display_data"
    },
    {
     "name": "stdout",
     "output_type": "stream",
     "text": [
      "After 1000 iterations :\n",
      "b=0.08834596963797803, m=1.4777556922756465, error=111.50016087793347\n",
      "\n"
     ]
    }
   ],
   "source": [
    "if __name__ == '__main__':\n",
    "    regression()"
   ]
  }
 ],
 "metadata": {
  "kernelspec": {
   "display_name": "Python 3",
   "language": "python",
   "name": "python3"
  },
  "language_info": {
   "codemirror_mode": {
    "name": "ipython",
    "version": 3
   },
   "file_extension": ".py",
   "mimetype": "text/x-python",
   "name": "python",
   "nbconvert_exporter": "python",
   "pygments_lexer": "ipython3",
   "version": "3.6.4"
  }
 },
 "nbformat": 4,
 "nbformat_minor": 2
}
