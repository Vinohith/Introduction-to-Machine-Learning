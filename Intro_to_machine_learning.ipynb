{
 "cells": [
  {
   "cell_type": "markdown",
   "metadata": {},
   "source": [
    "## MACHINE LEARNING\n",
    "![Image](https://assets.entrepreneur.com/content/3x2/1300/20171206183858-GettyImages-496822526.jpeg?width=700&crop=2:1)\n",
    "    \n",
    "Defination by **ARTHUR SAMUEL**:<br>\n",
    ">The field of study that gives computers the ability to learn without being explicitly programmed to do so.\n",
    "        \n",
    "Defination by **TOM MITCHELL**:<br>\n",
    ">A computer program is said to learn from *experience **E*** with respect to some *class of tasks **T*** and *performance measure **P***, if its performance at *task **T*** as measured by ***P***, improves with *experience **E***.\n",
    "\n",
    "<br>\n",
    "In general MACHINE LEARNING can be classified into:\n",
    "1. SUPERVISED LEARNING\n",
    "2. UNSUPERVISED LEARNING\n",
    "![Image](https://www.mathworks.com/content/mathworks/www/en/discovery/machine-learning/jcr:content/mainParsys/band_copy_262306852/mainParsys/columns/1/image_2128876021.adapt.full.high.svg/1520579396336.svg)"
   ]
  },
  {
   "cell_type": "markdown",
   "metadata": {},
   "source": [
    "## SUPERVISED LEARNING\n",
    "\n",
    ">In supervised learning, we are given a data set and already know what our correct output should look like, having the idea that there is a relationship between the input and the output.<br>\n",
    "The input data of our dataset : **FEATURES**<br>\n",
    "The output data of our datasest : **LABEL**<br>\n",
    "\n",
    "*Note : Here there is a feedback based on the perdicted results*<br>\n",
    "<br>\n",
    "SUPERVISED LEARNING can be divided into:\n",
    "1. REGRESSION : To predict results with continuous output.\n",
    "2. CLASSIFICATION : To predict results with discrete output."
   ]
  },
  {
   "cell_type": "markdown",
   "metadata": {},
   "source": [
    "## UNSUPERVISED LEARNING\n",
    ">In unsupervised learning, we are given a data-set with only the input features and without any output labels. This can be used to derive a structure in the data set by clustering.<br>\n",
    "\n",
    "*Note : Here there is no feedback based on the predicted results*"
   ]
  }
 ],
 "metadata": {
  "kernelspec": {
   "display_name": "Python 3",
   "language": "python",
   "name": "python3"
  },
  "language_info": {
   "codemirror_mode": {
    "name": "ipython",
    "version": 3
   },
   "file_extension": ".py",
   "mimetype": "text/x-python",
   "name": "python",
   "nbconvert_exporter": "python",
   "pygments_lexer": "ipython3",
   "version": "3.6.4"
  }
 },
 "nbformat": 4,
 "nbformat_minor": 2
}
